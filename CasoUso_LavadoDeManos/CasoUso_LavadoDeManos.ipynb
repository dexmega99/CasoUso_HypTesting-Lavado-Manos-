{
  "cells": [
    {
      "cell_type": "markdown",
      "metadata": {
        "dc": {
          "key": "13f090f9f0"
        },
        "deletable": false,
        "editable": false,
        "id": "DW3O8mtdXNrL",
        "run_control": {
          "frozen": true
        },
        "tags": [
          "context"
        ]
      },
      "source": [
        "## 1. Dr. Ignaz Semmelweis\n",
        "<p><img style=\"float: left;margin:5px 20px 5px 1px\" src=\"https://assets.datacamp.com/production/project_20/img/ignaz_semmelweis_1860.jpeg\"></p>\n",
        "<!--\n",
        "<img style=\"float: left;margin:5px 20px 5px 1px\" src=\"https://assets.datacamp.com/production/project_20/datasets/ignaz_semmelweis_1860.jpeg\">\n",
        "-->\n",
        "<p>El Dr. Ignaz Semmelweis, un médico húngaro nacido en 1818 y activo en el Hospital General de Viena. En la década de 1840 en el Hospital General de Viena hasta el 10% de las mujeres que daban a luz morían a causa de la fiebre puerperal. El doctor estaba convencido de la causa de la fiebre puerperal: son las manos contaminadas de los médicos que dan a luz. \n",
        "<p>En este cuaderno, vamos a volver a analizar los datos que hicieron que Semmelweis descubriera la importancia de <em>lavarse las manos</em>. Comencemos mirando los datos que hicieron que Semmelweis se diera cuenta de que algo andaba mal con los procedimientos en el Hospital General de Viena.</p>"
      ]
    },
    {
      "cell_type": "code",
      "execution_count": 6,
      "metadata": {
        "collapsed": true,
        "dc": {
          "key": "13f090f9f0"
        },
        "id": "NyXbBOucXNrO",
        "tags": [],
        "trusted": false
      },
      "outputs": [
        {
          "name": "stdout",
          "output_type": "stream",
          "text": [
            "   year  births  deaths    clinic\n",
            "0  1841    3036     237  clinic 1\n",
            "1  1842    3287     518  clinic 1\n",
            "2  1843    3060     274  clinic 1\n",
            "3  1844    3157     260  clinic 1\n",
            "4  1845    3492     241  clinic 1\n",
            "         date  births  deaths\n",
            "0  1841-01-01     254      37\n",
            "1  1841-02-01     239      18\n",
            "2  1841-03-01     277      12\n",
            "3  1841-04-01     255       4\n",
            "4  1841-05-01     255       2\n"
          ]
        }
      ],
      "source": [
        "# Lee el dataset y visualiza sus datos\n",
        "\n",
        "import pandas as pd\n",
        "import matplotlib.pyplot as plt\n",
        "import seaborn as sns\n",
        "import numpy as np\n",
        "\n",
        "monthly_deaths_df=pd.read_csv(\"datasets/monthly_deaths.csv\")\n",
        "yearly_deaths_df=pd.read_csv(\"datasets/yearly_deaths_by_clinic.csv\")\n",
        "\n",
        "print(yearly_deaths_df.head())\n",
        "print(monthly_deaths_df.head())"
      ]
    },
    {
      "cell_type": "markdown",
      "metadata": {
        "dc": {
          "key": "45ea098e15"
        },
        "deletable": false,
        "editable": false,
        "id": "5mFqH3udXNrQ",
        "run_control": {
          "frozen": true
        },
        "tags": [
          "context"
        ]
      },
      "source": [
        "## 2. El alarmante número de muertes\n",
        "<p>La tabla anterior muestra el número de mujeres que dieron a luz en las dos clínicas del Hospital General de Viena durante los años 1841 a 1846. Notarás que dar a luz era muy peligroso; un número <em>alarmante</em> de mujeres murió como resultado del parto, la mayoría de ellas por fiebre puerperal.</p>\n",
        "<p>Vemos esto más claramente si observamos la <em>proporción de muertes</em> del número de mujeres que dan a luz."
      ]
    },
    {
      "cell_type": "code",
      "execution_count": 15,
      "metadata": {
        "collapsed": true,
        "dc": {
          "key": "45ea098e15"
        },
        "id": "sS9NGQVOXNrQ",
        "tags": [
          "sample_code"
        ],
        "trusted": false
      },
      "outputs": [
        {
          "data": {
            "image/png": "[encoded data removed]",
            "text/plain": [
              "<Figure size 432x288 with 1 Axes>"
            ]
          },
          "metadata": {
            "needs_background": "light"
          },
          "output_type": "display_data"
        }
      ],
      "source": [
        "# Muestra la proporción de muertes por cada clínica y saca una conclusión del resultado\n",
        "\n",
        "fig= plt.figure()\n",
        "sns.lineplot(x='year', y='proportion_deaths', hue='clinic', data=yearly_deaths_df)\n",
        "plt.show()"
      ]
    },
    {
      "cell_type": "code",
      "execution_count": 10,
      "metadata": {
        "id": "UQUr2XDIfdSS"
      },
      "outputs": [
        {
          "name": "stdout",
          "output_type": "stream",
          "text": [
            "clinic\n",
            "clinic 1    0.098505\n",
            "clinic 2    0.040400\n",
            "Name: proportion_deaths, dtype: float64\n"
          ]
        }
      ],
      "source": [
        "# Aunque gráficamente sea evidente, muestra matemáticamente si hay diferencias significativas \n",
        "# (incluye el redactado de planteamiento de hipotesis)\n",
        "\n",
        "yearly_deaths_df[\"proportion_deaths\"]=yearly_deaths_df[\"deaths\"]/yearly_deaths_df[\"births\"]\n",
        "\n",
        "print(yearly_deaths_df.groupby('clinic')['proportion_deaths'].mean())"
      ]
    },
    {
      "attachments": {},
      "cell_type": "markdown",
      "metadata": {},
      "source": [
        "Por lo que he podido comprobar, en una de las clinicas tiene un mayor porcentaje de muertes a comparacion de la otra, voy a comprobar si esa diferencia es significativa, para ello voy a realizar un test de hipotesis: \n",
        "\n",
        "HO(hipotesis nula) el porcentaje de muertes es la misma en cada clinica\n",
        "HA(hipotesis alternativa) el porcentaje de muertes es mayor en una de las clinicas\n"
      ]
    },
    {
      "cell_type": "code",
      "execution_count": 46,
      "metadata": {},
      "outputs": [
        {
          "name": "stdout",
          "output_type": "stream",
          "text": [
            "               T  dof alternative     p-val          CI95%   cohen-d    BF10  \\\n",
            "T-test -3.579697   10        less  0.002507  [-inf, -0.03]  2.066739  16.979   \n",
            "\n",
            "           power  \n",
            "T-test  0.953391  \n"
          ]
        }
      ],
      "source": [
        "from pingouin import ttest\n",
        "df_clinic1=yearly_deaths_df[yearly_deaths_df[\"clinic\"]==\"clinic 1\"]\n",
        "df_clinic2=yearly_deaths_df[yearly_deaths_df[\"clinic\"]==\"clinic 2\"]\n",
        "\n",
        "results=ttest(df_clinic2[\"proportion_deaths\"],df_clinic1[\"proportion_deaths\"],alternative='less')\n",
        "\n",
        "print(results)"
      ]
    },
    {
      "attachments": {},
      "cell_type": "markdown",
      "metadata": {},
      "source": [
        "veo que el p-value es menor de 0.05, por lo tanto se rechaza la hipotesis nula, en una de las clinicas tiene mas porcentaje de muertes que en la otra"
      ]
    },
    {
      "cell_type": "markdown",
      "metadata": {
        "dc": {
          "key": "0c9fdbf550"
        },
        "deletable": false,
        "editable": false,
        "id": "mOLjAGPOXNrS",
        "run_control": {
          "frozen": true
        },
        "tags": [
          "context"
        ]
      },
      "source": [
        "## 3. Comienza el lavado de manos\n",
        "<p>¿Por qué la proporción de muertes es consistentemente mucho más alta en la Clínica 1? Semmelweis vio el mismo patrón y estaba desconcertado y angustiado. La única diferencia era que los trabajadores de la clínica 2 solo atendían a las mujeres que daban a luz, mientras que los de la clínica 1 también pasaban tiempo en las salas de autopsias examinando cadáveres. </p>\n",
        "<p>Semmelweis comenzó a sospechar que algo en los cadáveres se extendió de las manos de los estudiantes de medicina y causó fiebre puerperal.El doctor ordenó que se lavaran las manos, era considerada una propuesta rara ya que nadie en Viena sabía acerca de las bacterias en ese momento. </p>\n",
        "<p>Carguemos los datos mensuales de la Clínica 1 para ver si el lavado de manos tuvo algún efecto.</p>"
      ]
    },
    {
      "cell_type": "code",
      "execution_count": 70,
      "metadata": {
        "collapsed": true,
        "dc": {
          "key": "0c9fdbf550"
        },
        "id": "R93IEh6OXNrT",
        "tags": [
          "sample_code"
        ],
        "trusted": false
      },
      "outputs": [
        {
          "data": {
            "image/png": "[encoded data removed]",
            "text/plain": [
              "<Figure size 432x288 with 1 Axes>"
            ]
          },
          "metadata": {
            "needs_background": "light"
          },
          "output_type": "display_data"
        }
      ],
      "source": [
        "# Carga DataSet mensual\n",
        "# Muestra gráficamente la evolución temporal, ¿Se nota algún efecto a partir de alguna fecha?\n",
        "\n",
        "df_clinic1=yearly_deaths_df[yearly_deaths_df[\"clinic\"]==\"clinic 1\"]\n",
        "\n",
        "monthly_deaths_df[\"proportion_deaths\"]=monthly_deaths_df[\"deaths\"]/yearly_deaths_df[\"births\"]\n",
        "\n",
        "monthly_deaths_df[\"year\"]=pd.DatetimeIndex(monthly_deaths_df[\"date\"]).year\n",
        "\n",
        "\n",
        "fig= plt.figure()\n",
        "sns.lineplot(x='year', y='deaths', ci=None, data=monthly_deaths_df)\n",
        "\n",
        "plt.show()\n",
        "\n",
        "\n"
      ]
    },
    {
      "cell_type": "markdown",
      "metadata": {
        "dc": {
          "key": "518e95acc5"
        },
        "deletable": false,
        "editable": false,
        "id": "xlj-YKV2XNrV",
        "run_control": {
          "frozen": true
        },
        "tags": [
          "context"
        ]
      },
      "source": [
        "## 6. Se destaca el efecto del lavado de manos\n",
        "<p>A partir del verano de 1847 (1847-06-01) la proporción de muertes se reduce drásticamente y, sí, fue entonces cuando Semmelweis hizo obligatorio el lavado de manos. </p>\n",
        "<p>El efecto del lavado de manos se hace aún más claro si lo resaltamos en el gráfico.</p>"
      ]
    },
    {
      "cell_type": "code",
      "execution_count": 87,
      "metadata": {
        "collapsed": true,
        "dc": {
          "key": "518e95acc5"
        },
        "id": "ojYzKSNoXNrV",
        "tags": [
          "sample_code"
        ],
        "trusted": false
      },
      "outputs": [
        {
          "data": {
            "image/png": "[encoded data removed]",
            "text/plain": [
              "<Figure size 432x288 with 1 Axes>"
            ]
          },
          "metadata": {
            "needs_background": "light"
          },
          "output_type": "display_data"
        }
      ],
      "source": [
        "# Haz que en el gráfico se muestre la línea temporal en otro color a partir de esa fecha\n",
        "# (Te va a costar un poco, pero espavila y busca en internet)\n",
        "\n",
        "\n",
        "\n",
        "yearsum1=monthly_deaths_df[monthly_deaths_df[\"date\"]<=\"1847-06-01\"].groupby('date').sum()\n",
        "yearsum2=monthly_deaths_df[monthly_deaths_df[\"date\"]>=\"1847-06-01\"].groupby('date').sum()\n",
        "\n",
        "fig= plt.figure()\n",
        "sns.lineplot(x='date', y='deaths', ci=None, data=yearsum1)\n",
        "sns.lineplot(x='date', y='deaths', ci=None, data=yearsum2)\n",
        "plt.show()\n"
      ]
    },
    {
      "cell_type": "markdown",
      "metadata": {
        "dc": {
          "key": "586a9f9803"
        },
        "deletable": false,
        "editable": false,
        "id": "mk9-jdDTXNrW",
        "run_control": {
          "frozen": true
        },
        "tags": [
          "context"
        ]
      },
      "source": [
        "## 7. Lavado de manos, menos muertes?\n",
        "<p>El doctor Semmelweis cuando propuso el lavado de manos, no solo prometió que se reduciriá las muertes respecto a las anteriores fechas, sino que incluso bajarían del 3% (una barbaridad teniendo en cuenta que en ese momento rondaba al 10%)</p> ¿Cumplió sus dos promesas?"
      ]
    },
    {
      "cell_type": "code",
      "execution_count": 88,
      "metadata": {
        "id": "WAshhqHShkzm"
      },
      "outputs": [
        {
          "name": "stdout",
          "output_type": "stream",
          "text": [
            "26.83116883116883\n",
            "6.454545454545454\n"
          ]
        }
      ],
      "source": [
        "# Te toca hacer dos test de hipotesis, uno de lavado vs no lavado y otro lavado vs 3%\n",
        "\n",
        "print(yearsum1['deaths'].mean())\n",
        "print(yearsum2['deaths'].mean())"
      ]
    },
    {
      "attachments": {},
      "cell_type": "markdown",
      "metadata": {},
      "source": [
        "Por lo que he podido comprobar, a paritr de que comenzaron a lavarse las manos bajo el porcentaje de muertes a comparacion de antes, voy a comprobar si esa diferencia es significativa, para ello voy a realizar un test de hipotesis: \n",
        "\n",
        "HO(hipotesis nula) el porcentaje de muertes es igual pasado los años\n",
        "HA(hipotesis alternativa) el porcentaje de muertes es menor pasado los años\n"
      ]
    },
    {
      "cell_type": "code",
      "execution_count": 96,
      "metadata": {},
      "outputs": [
        {
          "name": "stdout",
          "output_type": "stream",
          "text": [
            "               T        dof alternative         p-val           CI95%  \\\n",
            "T-test -8.832412  96.984281        less  2.222135e-14  [-inf, -16.55]   \n",
            "\n",
            "         cohen-d       BF10     power  \n",
            "T-test  1.267069  2.028e+11  0.999814  \n",
            "              T  dof alternative     p-val         CI95%  cohen-d   BF10  \\\n",
            "T-test -2.74868   21        less  0.006017  [-inf, 0.03]  0.58602  8.527   \n",
            "\n",
            "           power  \n",
            "T-test  0.844609  \n"
          ]
        },
        {
          "name": "stderr",
          "output_type": "stream",
          "text": [
            "c:\\Users\\marcg\\anaconda3\\lib\\site-packages\\pingouin\\parametric.py:228: UserWarning: x and y have unequal sizes. Switching to paired == False. Check your data.\n",
            "  warnings.warn(\"x and y have unequal sizes. Switching to paired == False. Check your data.\")\n"
          ]
        }
      ],
      "source": [
        "results=ttest(yearsum2[\"deaths\"],yearsum1[\"deaths\"],alternative='less', paired=True)\n",
        "\n",
        "print(results)\n",
        "\n",
        "results=ttest(yearsum2[\"deaths\"]/yearsum2[\"births\"],0.03,alternative='less')\n",
        "\n",
        "print(results)"
      ]
    },
    {
      "attachments": {},
      "cell_type": "markdown",
      "metadata": {},
      "source": [
        "veo que el p-value  es menor de 0.05, por lo tanto se rechaza la hipotesis nula, a partir de x mes a bajado las muertes"
      ]
    },
    {
      "cell_type": "markdown",
      "metadata": {
        "dc": {
          "key": "0645423069"
        },
        "deletable": false,
        "editable": false,
        "id": "2AbV5qFDXNrY",
        "run_control": {
          "frozen": true
        },
        "tags": [
          "context"
        ]
      },
      "source": [
        "## 9. El destino del Dr. Semmelweis\n",
        "<p>Entonces, en general, parecería que Semmelweis tenía pruebas sólidas de que lavarse las manos era un procedimiento simple pero muy eficaz que podía salvar muchas vidas.</p>\n",
        "<p>La tragedia es que, a pesar de la evidencia, la teoría de Semmelweis —que la fiebre puerperal fue causada por alguna \"sustancia\" (lo que hoy conocemos como <em>bacteria</em>) de los cadáveres de la sala de autopsias— fue ridiculizada por el resto de científicos. La comunidad médica rechazó en gran medida su descubrimiento y en 1849 se vio obligado a abandonar el Hospital General de Viena para siempre.</p>\n",
        "<p>Una de las razones de esto fue que las estadísticas y los argumentos estadísticos eran poco comunes en la ciencia médica en el siglo XIX. Semmelweis solo publicó sus datos como largas tablas de datos sin procesar, pero no mostró gráficos ni intervalos de confianza. Si hubiera tenido acceso al análisis que acabamos de hacer, podría haber tenido más éxito en conseguir que los médicos vieneses se lavaran las manos.</p>\n",
        "¡Mala suerte crack!"
      ]
    }
  ],
  "metadata": {
    "colab": {
      "provenance": []
    },
    "kernelspec": {
      "display_name": "Python 3",
      "language": "python",
      "name": "python3"
    },
    "language_info": {
      "codemirror_mode": {
        "name": "ipython",
        "version": 3
      },
      "file_extension": ".py",
      "mimetype": "text/x-python",
      "name": "python",
      "nbconvert_exporter": "python",
      "pygments_lexer": "ipython3",
      "version": "3.9.12"
    }
  },
  "nbformat": 4,
  "nbformat_minor": 0
}
